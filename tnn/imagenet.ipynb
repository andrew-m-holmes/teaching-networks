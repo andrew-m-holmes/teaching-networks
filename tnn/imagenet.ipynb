{
 "cells": [
  {
   "cell_type": "code",
   "execution_count": 1,
   "id": "8d573b29-8cc4-4b13-b8aa-fac97594f96b",
   "metadata": {},
   "outputs": [],
   "source": [
    "import pickle\n",
    "import time\n",
    "import numpy as np\n",
    "import matplotlib.pyplot as plt\n",
    "import tnn.utils as utils\n",
    "\n",
    "import torch\n",
    "import torch.nn as nn\n",
    "import torch.nn.functional as f\n",
    "import torch.utils.data as data\n",
    "import torch.optim as optim\n",
    "import torchvision.transforms.v2 as v2\n",
    "\n",
    "from tnn.resnet import ResNet\n",
    "from datasets import load_dataset"
   ]
  },
  {
   "cell_type": "code",
   "execution_count": 8,
   "id": "04342301-ca63-442a-bdba-45a950422591",
   "metadata": {},
   "outputs": [
    {
     "data": {
      "application/vnd.jupyter.widget-view+json": {
       "model_id": "ecf2f3dba75645e79f9e24625c0126ed",
       "version_major": 2,
       "version_minor": 0
      },
      "text/plain": [
       "Loading dataset shards:   0%|          | 0/257 [00:00<?, ?it/s]"
      ]
     },
     "metadata": {},
     "output_type": "display_data"
    },
    {
     "data": {
      "application/vnd.jupyter.widget-view+json": {
       "model_id": "730e1440a1cc43f9b0ae92a99ecc46bb",
       "version_major": 2,
       "version_minor": 0
      },
      "text/plain": [
       "Loading dataset shards:   0%|          | 0/25 [00:00<?, ?it/s]"
      ]
     },
     "metadata": {},
     "output_type": "display_data"
    }
   ],
   "source": [
    "with open(\"./.token.txt\", mode=\"r\") as file:\n",
    "    token = file.readline().strip()\n",
    "\n",
    "imagenet = load_dataset(\"ILSVRC/imagenet-1k\", token=token, num_proc=1, trust_remote_code=True)"
   ]
  },
  {
   "cell_type": "code",
   "execution_count": 9,
   "id": "470b5179-81d2-47cc-85de-d37b002d5a3d",
   "metadata": {},
   "outputs": [],
   "source": [
    "train, val = imagenet.get(\"train\"), imagenet.get(\"validation\")\n",
    "train = train.select(np.random.choice(1000, 1000, replace=False))\n",
    "val = val.select(np.random.choice(1000, 1000, replace=False))"
   ]
  },
  {
   "cell_type": "code",
   "execution_count": 11,
   "id": "3b1ce0f0-17ee-4af5-bc25-e5ce69e982f5",
   "metadata": {},
   "outputs": [
    {
     "data": {
      "application/vnd.jupyter.widget-view+json": {
       "model_id": "049b98f1e7c34ea88251b43b13408f36",
       "version_major": 2,
       "version_minor": 0
      },
      "text/plain": [
       "Map:   0%|          | 0/1000 [00:00<?, ? examples/s]"
      ]
     },
     "metadata": {},
     "output_type": "display_data"
    },
    {
     "data": {
      "application/vnd.jupyter.widget-view+json": {
       "model_id": "d25bb6c134ab412294ec509c0babf1bd",
       "version_major": 2,
       "version_minor": 0
      },
      "text/plain": [
       "Map:   0%|          | 0/1000 [00:00<?, ? examples/s]"
      ]
     },
     "metadata": {},
     "output_type": "display_data"
    }
   ],
   "source": [
    "def pre_process(example):\n",
    "    transforms = v2.Compose([\n",
    "        v2.Resize(256),\n",
    "        v2.ToImage(),\n",
    "        v2.ToDtype(torch.float32, scale=True),\n",
    "        v2.Normalize(mean=[0.485, 0.456, 0.406], std=[0.229, 0.224, 0.225])\n",
    "    ])\n",
    "    example[\"input\"] = transforms(example[\"image\"])\n",
    "    return example\n",
    "\n",
    "train = train.map(pre_process, batched=True, batch_size=256, num_proc=1)\n",
    "val = val.map(pre_process, batched=True, batch_size=256, num_proc=1)\n",
    "\n",
    "train.set_format(type=\"pt\", columns=[\"input\", \"label\"], output_all_columns=True)\n",
    "val.set_format(type=\"pt\", columns=[\"input\", \"label\"], output_all_columns=True)\n"
   ]
  },
  {
   "cell_type": "code",
   "execution_count": 18,
   "id": "fac8f6aa-fcc0-4ef8-acb2-bb04b06c0896",
   "metadata": {},
   "outputs": [
    {
     "name": "stdout",
     "output_type": "stream",
     "text": [
      "torch.Size([3, 256, 341])\n"
     ]
    }
   ],
   "source": [
    "augmentor = v2.Compose([\n",
    "    v2.RandomHorizontalFlip(p=0.5),\n",
    "    v2.RandomCrop(size=(224, 224))\n",
    "])\n",
    "\n",
    "train = train.shuffle()\n",
    "batch_size = 32\n",
    "for i in range(0, len(train), batch_size):\n",
    "    mini_batch = train.select(range(i, i + batch_size))\n",
    "    inputs, labels = mini_batch[\"input\"], mini_batch[\"label\"]\n",
    "    break\n",
    "    "
   ]
  },
  {
   "cell_type": "code",
   "execution_count": 7,
   "id": "128a7de2-7817-4d59-a1d8-c1df2171b485",
   "metadata": {},
   "outputs": [],
   "source": [
    "layer_config = [(64, 64, 3), (64, 128, 4), (128, 256, 5), (256, 512, 3)]\n",
    "model = ResNet(layer_config)"
   ]
  }
 ],
 "metadata": {
  "kernelspec": {
   "display_name": "Python 3 (ipykernel)",
   "language": "python",
   "name": "python3"
  },
  "language_info": {
   "codemirror_mode": {
    "name": "ipython",
    "version": 3
   },
   "file_extension": ".py",
   "mimetype": "text/x-python",
   "name": "python",
   "nbconvert_exporter": "python",
   "pygments_lexer": "ipython3",
   "version": "3.12.4"
  }
 },
 "nbformat": 4,
 "nbformat_minor": 5
}
