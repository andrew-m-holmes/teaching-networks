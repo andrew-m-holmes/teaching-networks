{
 "cells": [
  {
   "cell_type": "code",
   "execution_count": 1,
   "id": "aef3a5af-7512-4bc0-8b13-470aaa3b335b",
   "metadata": {},
   "outputs": [],
   "source": [
    "import torch\n",
    "import torch.nn as nn\n",
    "import torch.optim as optim\n",
    "import numpy as np\n",
    "import torch.utils.data as data\n",
    "\n",
    "from datasets import load_dataset\n",
    "from src.landscape import Landscape\n",
    "from src.trainer import Trainer\n",
    "from src.plot import Plot"
   ]
  },
  {
   "cell_type": "code",
   "execution_count": 2,
   "id": "4abba96f-e9f6-4381-b844-1c58aa61321a",
   "metadata": {},
   "outputs": [],
   "source": [
    "def pre_process(example):\n",
    "    arr = np.reshape(example[\"input\"], -1)\n",
    "    example[\"input\"] = arr\n",
    "    return example"
   ]
  },
  {
   "cell_type": "code",
   "execution_count": 3,
   "id": "e9b3ad59-fcc0-4c5f-b642-b6628ca1c538",
   "metadata": {},
   "outputs": [],
   "source": [
    "mnist = load_dataset(\"mnist\", trust_remote_code=True)\n",
    "train, test = mnist.get(\"train\"), mnist.get(\"test\")"
   ]
  },
  {
   "cell_type": "code",
   "execution_count": 4,
   "id": "72312acf-b00b-45fc-9c55-bec4df35b79b",
   "metadata": {},
   "outputs": [],
   "source": [
    "train.set_format(type=\"numpy\", columns=[\"image\", \"label\"])\n",
    "test.set_format(type=\"numpy\", columns=[\"image\", \"label\"])\n",
    "train = train.rename_column(\"image\", \"input\")\n",
    "test = test.rename_column(\"image\", \"input\")\n",
    "train = train.map(pre_process, num_proc=4)\n",
    "test = test.map(pre_process, num_proc=4)"
   ]
  },
  {
   "cell_type": "code",
   "execution_count": 5,
   "id": "44fa7e7a-2337-48ad-b432-94748fab07e5",
   "metadata": {},
   "outputs": [],
   "source": [
    "device = \"cuda\" if torch.cuda.is_available() else \"cpu\"\n",
    "train_inputs = torch.from_numpy(train[\"input\"]).float().squeeze() / 255.0\n",
    "test_inputs = torch.from_numpy(test[\"input\"]).float().squeeze() / 255.0\n",
    "train_labels = torch.from_numpy(train[\"label\"]).long()\n",
    "test_labels = torch.from_numpy(test[\"label\"]).long()"
   ]
  },
  {
   "cell_type": "code",
   "execution_count": 6,
   "id": "64a79cde-d781-4f0c-84e6-242fb14e486e",
   "metadata": {},
   "outputs": [],
   "source": [
    "train_dataset = data.TensorDataset(train_inputs, train_labels)\n",
    "test_dataset = data.TensorDataset(test_inputs, test_labels)"
   ]
  },
  {
   "cell_type": "code",
   "execution_count": 9,
   "id": "dfad52c7-e7e4-42f4-8e8d-10a4163bd171",
   "metadata": {},
   "outputs": [],
   "source": [
    "class Model(nn.Module):\n",
    "    \n",
    "    def __init__(self):\n",
    "        super().__init__()\n",
    "        self.linear_1 = nn.Linear(28 * 28, 512)\n",
    "        self.relu_1 = nn.ReLU()\n",
    "        self.drop_1 = nn.Dropout(p=0.4)\n",
    "        self.linear_2 = nn.Linear(512, 512)\n",
    "        self.relu_2 = nn.ReLU()\n",
    "        self.drop_2 = nn.Dropout(p=0.4)\n",
    "        self.linear_3 = nn.Linear(512, 512)\n",
    "        self.relu_3 = nn.ReLU()\n",
    "        self.drop_3 = nn.Dropout(p=0.4)\n",
    "        self.linear_4 = nn.Linear(512, 512)\n",
    "        self.relu_4 = nn.ReLU()\n",
    "        self.drop_4 = nn.Dropout(0.4)\n",
    "        self.linear_5 = nn.Linear(512, 512)\n",
    "        self.relu_5 = nn.ReLU()\n",
    "        self.drop_5 = nn.Dropout(0.2)\n",
    "        self.linear_6 = nn.Linear(512, 10)\n",
    "        self.relu_6 = nn.ReLU()\n",
    "\n",
    "    def forward(self, x):\n",
    "        x = self.drop_1(self.relu_1(self.linear_1(x)))\n",
    "        x = self.drop_2(self.relu_2(self.linear_2(x)))\n",
    "        x = self.drop_3(self.relu_3(self.linear_3(x)))\n",
    "        x = self.drop_4(self.relu_4(self.linear_4(x)))\n",
    "        x = self.drop_5(self.relu_5(self.linear_5(x)))\n",
    "        return self.relu_6(self.linear_6(x))\n"
   ]
  },
  {
   "cell_type": "code",
   "execution_count": 10,
   "id": "4ab7bda5-b6bd-4125-9737-6327a714a94b",
   "metadata": {},
   "outputs": [],
   "source": [
    "model = Model()\n",
    "optimizer = optim.SGD(model.parameters(), lr=1e-2)\n",
    "loss_fn = nn.CrossEntropyLoss()\n",
    "batch_size = 256"
   ]
  },
  {
   "cell_type": "code",
   "execution_count": 11,
   "id": "df255fe7-ed20-4a4a-a2bb-cb749632613f",
   "metadata": {},
   "outputs": [],
   "source": [
    "train_loader = data.DataLoader(\n",
    "    train_dataset,\n",
    "    batch_size=batch_size,\n",
    "    shuffle=True,\n",
    "    drop_last=False,\n",
    "    pin_memory=True,\n",
    ")\n",
    "\n",
    "test_loader = data.DataLoader(\n",
    "    test_dataset,\n",
    "    batch_size=len(test_dataset),\n",
    "    shuffle=True,\n",
    "    drop_last=False,\n",
    "    pin_memory=True,\n",
    ")"
   ]
  },
  {
   "cell_type": "code",
   "execution_count": 12,
   "id": "e4ebd2d6-480f-4972-a8e5-93d94e3f9e8d",
   "metadata": {},
   "outputs": [],
   "source": [
    "trainer = Trainer(model, optimizer, loss_fn, write=True, metric_path=\"./metrics.h5\", param_path=\"./params.pt\", traj_path=\"./traj.pt\")"
   ]
  },
  {
   "cell_type": "code",
   "execution_count": 13,
   "id": "65df7b4d-c944-42f0-a09f-c6a65bc6e797",
   "metadata": {},
   "outputs": [
    {
     "name": "stdout",
     "output_type": "stream",
     "text": [
      "Training started...\n",
      "Epoch 10 complete, train loss: 2.3009, train acc: 0.14, test loss: 2.3000, test acc: 0.13\n",
      "Epoch 20 complete, train loss: 2.1890, train acc: 0.18, test loss: 2.1494, test acc: 0.19\n",
      "Epoch 30 complete, train loss: 1.6202, train acc: 0.45, test loss: 1.4460, test acc: 0.53\n",
      "Epoch 40 complete, train loss: 0.7479, train acc: 0.75, test loss: 0.6094, test acc: 0.79\n",
      "Epoch 50 complete, train loss: 0.5438, train acc: 0.81, test loss: 0.4666, test acc: 0.83\n",
      "Training complete\n",
      "Writing metrics to: ./metrics.h5\n",
      "Writing parameters to: ./params.pt\n",
      "Writing trajectory to: ./traj.pt\n",
      "Metrics and weights written\n"
     ]
    }
   ],
   "source": [
    "metrics, trajectory = trainer.train(train_loader, test_loader, epochs=50, device=device, print_every=10)"
   ]
  },
  {
   "cell_type": "code",
   "execution_count": 14,
   "id": "c145e17d-e83b-4218-87f6-fa613825130e",
   "metadata": {},
   "outputs": [],
   "source": [
    "model = Model()\n",
    "landscape = Landscape.from_files(model, loss_fn, param_path=\"./params.pt\", traj_path=\"./traj.pt\")"
   ]
  },
  {
   "cell_type": "code",
   "execution_count": 15,
   "id": "228e4d99-b3df-4833-84c0-e749f8484c94",
   "metadata": {},
   "outputs": [
    {
     "name": "stdout",
     "output_type": "stream",
     "text": [
      "Iteration: 45, loss: 0.7664\n",
      "Iteration: 90, loss: 0.6215\n",
      "Iteration: 135, loss: 0.6096\n",
      "Iteration: 180, loss: 0.7002\n",
      "Iteration: 225, loss: 0.9955\n",
      "Writing to f./landscape.h5\n",
      "./landscape.h5 written\n"
     ]
    }
   ],
   "source": [
    "X, Y, Z = landscape.create_landscape(test_loader, mode=\"filter\", resolution=15, print_every=45)"
   ]
  },
  {
   "cell_type": "code",
   "execution_count": 16,
   "id": "ad933725-cacc-43b6-b8eb-dbec62d57360",
   "metadata": {},
   "outputs": [],
   "source": [
    "plot = Plot.from_files(mesh_path=\"./landscape.h5\")"
   ]
  },
  {
   "cell_type": "code",
   "execution_count": 17,
   "id": "6223ee86-3ce9-4d84-82de-7e153caf4d1c",
   "metadata": {},
   "outputs": [],
   "source": [
    "plot.plot_surface_3D(file_path=\"./loss-landscape.png\")"
   ]
  },
  {
   "cell_type": "code",
   "execution_count": 18,
   "id": "e139a61c-e096-4b23-bbb1-199d836cf773",
   "metadata": {},
   "outputs": [],
   "source": [
    "plot.plot_contour(file_path=\"./loss-contour.png\")"
   ]
  }
 ],
 "metadata": {
  "kernelspec": {
   "display_name": "Python 3 (ipykernel)",
   "language": "python",
   "name": "python3"
  },
  "language_info": {
   "codemirror_mode": {
    "name": "ipython",
    "version": 3
   },
   "file_extension": ".py",
   "mimetype": "text/x-python",
   "name": "python",
   "nbconvert_exporter": "python",
   "pygments_lexer": "ipython3",
   "version": "3.12.4"
  }
 },
 "nbformat": 4,
 "nbformat_minor": 5
}
