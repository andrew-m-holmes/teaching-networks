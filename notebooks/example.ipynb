{
 "cells": [
  {
   "cell_type": "code",
   "execution_count": 1,
   "id": "aef3a5af-7512-4bc0-8b13-470aaa3b335b",
   "metadata": {},
   "outputs": [],
   "source": [
    "import torch\n",
    "import torch.nn as nn\n",
    "import torch.optim as optim\n",
    "import numpy as np\n",
    "import torch.utils.data as data\n",
    "\n",
    "from datasets import load_dataset\n",
    "from src.landscape import Landscape\n",
    "from src.trainer import Trainer\n",
    "from src.plot import Plot"
   ]
  },
  {
   "cell_type": "code",
   "execution_count": 2,
   "id": "4abba96f-e9f6-4381-b844-1c58aa61321a",
   "metadata": {},
   "outputs": [],
   "source": [
    "def pre_process(example):\n",
    "    arr = np.reshape(example[\"input\"], -1)\n",
    "    example[\"input\"] = arr\n",
    "    return example"
   ]
  },
  {
   "cell_type": "code",
   "execution_count": 3,
   "id": "e9b3ad59-fcc0-4c5f-b642-b6628ca1c538",
   "metadata": {},
   "outputs": [],
   "source": [
    "mnist = load_dataset(\"mnist\", trust_remote_code=True)\n",
    "train, test = mnist.get(\"train\"), mnist.get(\"test\")"
   ]
  },
  {
   "cell_type": "code",
   "execution_count": 4,
   "id": "72312acf-b00b-45fc-9c55-bec4df35b79b",
   "metadata": {},
   "outputs": [],
   "source": [
    "train.set_format(type=\"numpy\", columns=[\"image\", \"label\"])\n",
    "test.set_format(type=\"numpy\", columns=[\"image\", \"label\"])\n",
    "train = train.rename_column(\"image\", \"input\")\n",
    "test = test.rename_column(\"image\", \"input\")\n",
    "train = train.map(pre_process, num_proc=4)\n",
    "test = test.map(pre_process, num_proc=4)"
   ]
  },
  {
   "cell_type": "code",
   "execution_count": 5,
   "id": "44fa7e7a-2337-48ad-b432-94748fab07e5",
   "metadata": {},
   "outputs": [],
   "source": [
    "device = \"cuda\" if torch.cuda.is_available() else \"cpu\"\n",
    "train_inputs = torch.from_numpy(train[\"input\"]).float().squeeze() / 255.0\n",
    "test_inputs = torch.from_numpy(test[\"input\"]).float().squeeze() / 255.0\n",
    "train_labels = torch.from_numpy(train[\"label\"]).long()\n",
    "test_labels = torch.from_numpy(test[\"label\"]).long()"
   ]
  },
  {
   "cell_type": "code",
   "execution_count": 6,
   "id": "64a79cde-d781-4f0c-84e6-242fb14e486e",
   "metadata": {},
   "outputs": [],
   "source": [
    "train_dataset = data.TensorDataset(train_inputs, train_labels)\n",
    "test_dataset = data.TensorDataset(test_inputs, test_labels)"
   ]
  },
  {
   "cell_type": "code",
   "execution_count": 7,
   "id": "dfad52c7-e7e4-42f4-8e8d-10a4163bd171",
   "metadata": {},
   "outputs": [],
   "source": [
    "class Model(nn.Module):\n",
    "    def __init__(self):\n",
    "        super().__init__()\n",
    "        self.linear_1 = nn.Linear(28 * 28, 512)\n",
    "        self.relu_1 = nn.ReLU()\n",
    "        self.drop_1 = nn.Dropout(p=0.4)\n",
    "        self.linear_2 = nn.Linear(512, 512)\n",
    "        self.relu_2 = nn.ReLU()\n",
    "        self.drop_2 = nn.Dropout(p=0.2)\n",
    "        self.linear_3 = nn.Linear(512, 512)\n",
    "        self.relu_3 = nn.ReLU()\n",
    "        self.linear_4 = nn.Linear(512, 10)\n",
    "\n",
    "    def forward(self, x):\n",
    "        x = self.drop_1(self.relu_1(self.linear_1(x)))\n",
    "        x = self.drop_2(self.relu_2(self.linear_2(x)))\n",
    "        x = self.relu_3(self.linear_3(x))\n",
    "        out = self.linear_4(x)\n",
    "        return out"
   ]
  },
  {
   "cell_type": "code",
   "execution_count": 8,
   "id": "4ab7bda5-b6bd-4125-9737-6327a714a94b",
   "metadata": {},
   "outputs": [],
   "source": [
    "model = Model()\n",
    "optimizer = optim.SGD(model.parameters(), lr=1e-2)\n",
    "loss_fn = nn.CrossEntropyLoss()\n",
    "batch_size = 256"
   ]
  },
  {
   "cell_type": "code",
   "execution_count": 9,
   "id": "df255fe7-ed20-4a4a-a2bb-cb749632613f",
   "metadata": {},
   "outputs": [],
   "source": [
    "train_loader = data.DataLoader(\n",
    "    train_dataset,\n",
    "    batch_size=batch_size,\n",
    "    shuffle=True,\n",
    "    drop_last=False,\n",
    "    pin_memory=True,\n",
    ")\n",
    "\n",
    "test_loader = data.DataLoader(\n",
    "    test_dataset,\n",
    "    batch_size=len(test_dataset),\n",
    "    shuffle=True,\n",
    "    drop_last=False,\n",
    "    pin_memory=True,\n",
    ")"
   ]
  },
  {
   "cell_type": "code",
   "execution_count": 10,
   "id": "e4ebd2d6-480f-4972-a8e5-93d94e3f9e8d",
   "metadata": {},
   "outputs": [],
   "source": [
    "trainer = Trainer(model, optimizer, loss_fn, write=True, filepath=\"./metrics.h5\", modelpath=\"./params.pt\")"
   ]
  },
  {
   "cell_type": "code",
   "execution_count": 11,
   "id": "0c1afd65-e47c-40f7-99b7-0d2fff9edc5d",
   "metadata": {},
   "outputs": [
    {
     "name": "stdout",
     "output_type": "stream",
     "text": [
      "Training started...\n",
      "Epoch 10 complete, train loss: 0.5213, train acc: 0.85, test loss: 0.4197, test acc: 0.88\n",
      "Epoch 20 complete, train loss: 0.3285, train acc: 0.90, test loss: 0.2713, test acc: 0.92\n",
      "Epoch 30 complete, train loss: 0.2457, train acc: 0.93, test loss: 0.2004, test acc: 0.94\n",
      "Epoch 40 complete, train loss: 0.1946, train acc: 0.94, test loss: 0.1585, test acc: 0.95\n",
      "Epoch 50 complete, train loss: 0.1615, train acc: 0.95, test loss: 0.1325, test acc: 0.96\n",
      "Training complete\n",
      "Writing metrics to: ./metrics.h5\n",
      "Writing weights to: ./params.pt\n",
      "Metrics and weights written\n"
     ]
    }
   ],
   "source": [
    "metrics = trainer.train(train_loader, test_loader, epochs=50, device=device, printevery=10)"
   ]
  },
  {
   "cell_type": "code",
   "execution_count": 12,
   "id": "c145e17d-e83b-4218-87f6-fa613825130e",
   "metadata": {},
   "outputs": [],
   "source": [
    "model = Model()\n",
    "landscape = Landscape.fromfiles(model, filepath=\"./metrics.h5\", modelpath=\"./params.pt\")"
   ]
  },
  {
   "cell_type": "code",
   "execution_count": 13,
   "id": "37baea5f-c055-4898-9079-7d2b842e552d",
   "metadata": {},
   "outputs": [
    {
     "name": "stdout",
     "output_type": "stream",
     "text": [
      "Iteration: 15, loss: 0.4231\n",
      "Iteration: 30, loss: 0.3444\n",
      "Iteration: 45, loss: 0.2909\n",
      "Iteration: 60, loss: 0.2545\n",
      "Iteration: 75, loss: 0.2300\n",
      "Iteration: 90, loss: 0.2142\n",
      "Iteration: 105, loss: 0.2047\n",
      "Iteration: 120, loss: 0.2000\n",
      "Iteration: 135, loss: 0.1993\n",
      "Iteration: 150, loss: 0.2021\n",
      "Iteration: 165, loss: 0.2087\n",
      "Iteration: 180, loss: 0.2191\n",
      "Iteration: 195, loss: 0.2338\n",
      "Iteration: 210, loss: 0.2538\n",
      "Iteration: 225, loss: 0.2810\n",
      "Writing landscape to: ./landscape.h5\n",
      "Landscape written\n"
     ]
    }
   ],
   "source": [
    "A, B, Z = landscape.create(loss_fn, test_loader, resolution=15, bounds=(-1.0, 1.0), device=device, printevery=15)"
   ]
  },
  {
   "cell_type": "code",
   "execution_count": 14,
   "id": "ad933725-cacc-43b6-b8eb-dbec62d57360",
   "metadata": {},
   "outputs": [],
   "source": [
    "plot = Plot.fromfiles(llspath=\"./landscape.h5\")"
   ]
  },
  {
   "cell_type": "code",
   "execution_count": 15,
   "id": "6223ee86-3ce9-4d84-82de-7e153caf4d1c",
   "metadata": {},
   "outputs": [],
   "source": [
    "plot.plotsurface3D(filepath=\"./loss-landscape.png\")"
   ]
  }
 ],
 "metadata": {
  "kernelspec": {
   "display_name": "Python 3 (ipykernel)",
   "language": "python",
   "name": "python3"
  },
  "language_info": {
   "codemirror_mode": {
    "name": "ipython",
    "version": 3
   },
   "file_extension": ".py",
   "mimetype": "text/x-python",
   "name": "python",
   "nbconvert_exporter": "python",
   "pygments_lexer": "ipython3",
   "version": "3.12.4"
  }
 },
 "nbformat": 4,
 "nbformat_minor": 5
}
