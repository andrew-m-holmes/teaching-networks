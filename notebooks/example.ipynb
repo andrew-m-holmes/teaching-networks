{
 "cells": [
  {
   "cell_type": "code",
   "execution_count": 1,
   "id": "aef3a5af-7512-4bc0-8b13-470aaa3b335b",
   "metadata": {},
   "outputs": [],
   "source": [
    "import torch\n",
    "import torch.nn as nn\n",
    "import torch.nn.functional as f\n",
    "import torch.utils.data as data\n",
    "import torch.optim as optim\n",
    "import numpy as np\n",
    "\n",
    "from datasets import load_dataset\n",
    "from src.landscape import Landscape\n",
    "from src.trainer import Trainer\n",
    "from src.plot import Plot"
   ]
  },
  {
   "cell_type": "code",
   "execution_count": 2,
   "id": "4abba96f-e9f6-4381-b844-1c58aa61321a",
   "metadata": {},
   "outputs": [],
   "source": [
    "def pre_process(example):\n",
    "    arr = np.reshape(example[\"input\"], -1)\n",
    "    example[\"input\"] = arr\n",
    "    return example"
   ]
  },
  {
   "cell_type": "code",
   "execution_count": 3,
   "id": "e9b3ad59-fcc0-4c5f-b642-b6628ca1c538",
   "metadata": {},
   "outputs": [],
   "source": [
    "mnist = load_dataset(\"mnist\", trust_remote_code=True)\n",
    "train, test = mnist.get(\"train\"), mnist.get(\"test\")"
   ]
  },
  {
   "cell_type": "code",
   "execution_count": 4,
   "id": "72312acf-b00b-45fc-9c55-bec4df35b79b",
   "metadata": {},
   "outputs": [],
   "source": [
    "train.set_format(type=\"numpy\", columns=[\"image\", \"label\"])\n",
    "test.set_format(type=\"numpy\", columns=[\"image\", \"label\"])\n",
    "train = train.rename_column(\"image\", \"input\")\n",
    "test = test.rename_column(\"image\", \"input\")\n",
    "train = train.map(pre_process, num_proc=4)\n",
    "test = test.map(pre_process, num_proc=4)"
   ]
  },
  {
   "cell_type": "code",
   "execution_count": 5,
   "id": "44fa7e7a-2337-48ad-b432-94748fab07e5",
   "metadata": {},
   "outputs": [],
   "source": [
    "device = \"cuda\" if torch.cuda.is_available() else \"cpu\"\n",
    "train_inputs = torch.from_numpy(train[\"input\"]).float().squeeze() / 255.0\n",
    "test_inputs = torch.from_numpy(test[\"input\"]).float().squeeze() / 255.0\n",
    "train_labels = torch.from_numpy(train[\"label\"]).long()\n",
    "test_labels = torch.from_numpy(test[\"label\"]).long()"
   ]
  },
  {
   "cell_type": "code",
   "execution_count": 6,
   "id": "64a79cde-d781-4f0c-84e6-242fb14e486e",
   "metadata": {},
   "outputs": [],
   "source": [
    "train_dataset = data.TensorDataset(train_inputs, train_labels)\n",
    "test_dataset = data.TensorDataset(test_inputs, test_labels)"
   ]
  },
  {
   "cell_type": "code",
   "execution_count": 7,
   "id": "dfad52c7-e7e4-42f4-8e8d-10a4163bd171",
   "metadata": {},
   "outputs": [],
   "source": [
    "class Model(nn.Module):\n",
    "    \n",
    "    def __init__(self):\n",
    "        super().__init__()\n",
    "        self.linear_1 = nn.Linear(28 * 28, 512)\n",
    "        self.drop_1 = nn.Dropout(0.5)\n",
    "        self.linear_2 = nn.Linear(512, 512)\n",
    "        self.drop_2 = nn.Dropout(0.25)\n",
    "        self.linear_3 = nn.Linear(512, 10)\n",
    "\n",
    "    def forward(self, x):\n",
    "        x = f.relu(self.drop_1(self.linear_1(x)))\n",
    "        x = f.relu(self.drop_2(self.linear_2(x)))\n",
    "        return f.relu(self.linear_3(x))\n"
   ]
  },
  {
   "cell_type": "code",
   "execution_count": 8,
   "id": "4ab7bda5-b6bd-4125-9737-6327a714a94b",
   "metadata": {},
   "outputs": [],
   "source": [
    "model = Model()\n",
    "optimizer = optim.SGD(model.parameters(), lr=1e-2)\n",
    "loss_fn = nn.CrossEntropyLoss()\n",
    "batch_size = 256"
   ]
  },
  {
   "cell_type": "code",
   "execution_count": 9,
   "id": "df255fe7-ed20-4a4a-a2bb-cb749632613f",
   "metadata": {},
   "outputs": [],
   "source": [
    "train_loader = data.DataLoader(\n",
    "    train_dataset,\n",
    "    batch_size=batch_size,\n",
    "    shuffle=True,\n",
    "    drop_last=False,\n",
    "    pin_memory=True,\n",
    ")\n",
    "\n",
    "test_loader = data.DataLoader(\n",
    "    test_dataset,\n",
    "    batch_size=len(test_dataset),\n",
    "    shuffle=True,\n",
    "    drop_last=False,\n",
    "    pin_memory=True,\n",
    ")"
   ]
  },
  {
   "cell_type": "code",
   "execution_count": 10,
   "id": "e4ebd2d6-480f-4972-a8e5-93d94e3f9e8d",
   "metadata": {},
   "outputs": [],
   "source": [
    "trainer = Trainer(model, optimizer, loss_fn, write=True, metric_path=\"./metrics.h5\", param_path=\"./params.pt\", traj_path=\"./traj.pt\")"
   ]
  },
  {
   "cell_type": "code",
   "execution_count": 11,
   "id": "65df7b4d-c944-42f0-a09f-c6a65bc6e797",
   "metadata": {},
   "outputs": [
    {
     "name": "stdout",
     "output_type": "stream",
     "text": [
      "Training started...\n",
      "Epoch 10 complete, train loss: 0.7366, train acc: 0.76, test loss: 0.6414, test acc: 0.79\n",
      "Epoch 20 complete, train loss: 0.3491, train acc: 0.90, test loss: 0.2787, test acc: 0.92\n",
      "Epoch 30 complete, train loss: 0.2775, train acc: 0.92, test loss: 0.2217, test acc: 0.94\n",
      "Epoch 40 complete, train loss: 0.2329, train acc: 0.93, test loss: 0.1842, test acc: 0.95\n",
      "Epoch 50 complete, train loss: 0.2014, train acc: 0.94, test loss: 0.1588, test acc: 0.95\n",
      "Training complete\n",
      "Writing metrics to: ./metrics.h5\n",
      "Writing parameters to: ./params.pt\n",
      "Writing trajectory to: ./traj.pt\n",
      "Metrics and weights written\n"
     ]
    }
   ],
   "source": [
    "metrics, trajectory = trainer.train(train_loader, test_loader, epochs=50, device=device, print_every=10)"
   ]
  },
  {
   "cell_type": "code",
   "execution_count": 12,
   "id": "c145e17d-e83b-4218-87f6-fa613825130e",
   "metadata": {},
   "outputs": [],
   "source": [
    "model = Model()\n",
    "landscape = Landscape.from_files(model, loss_fn, param_path=\"./params.pt\", traj_path=\"./traj.pt\")"
   ]
  },
  {
   "cell_type": "code",
   "execution_count": 13,
   "id": "228e4d99-b3df-4833-84c0-e749f8484c94",
   "metadata": {},
   "outputs": [
    {
     "name": "stdout",
     "output_type": "stream",
     "text": [
      "Iteration: 25, loss: 2.3441\n",
      "Iteration: 50, loss: 2.3311\n",
      "Iteration: 75, loss: 2.3220\n",
      "Iteration: 100, loss: 2.3171\n",
      "Iteration: 125, loss: 2.3148\n",
      "Iteration: 150, loss: 2.3131\n",
      "Iteration: 175, loss: 2.3101\n",
      "Iteration: 200, loss: 2.3040\n",
      "Iteration: 225, loss: 2.2936\n",
      "Iteration: 250, loss: 2.2788\n",
      "Iteration: 275, loss: 2.2606\n",
      "Iteration: 300, loss: 2.2412\n",
      "Iteration: 325, loss: 2.2227\n",
      "Iteration: 350, loss: 2.2065\n",
      "Iteration: 375, loss: 2.1935\n",
      "Iteration: 400, loss: 2.1841\n",
      "Iteration: 425, loss: 2.1799\n",
      "Iteration: 450, loss: 2.1838\n",
      "Iteration: 475, loss: 2.2004\n",
      "Iteration: 500, loss: 2.2328\n",
      "Iteration: 525, loss: 2.2835\n",
      "Iteration: 550, loss: 2.3521\n",
      "Iteration: 575, loss: 2.4378\n",
      "Iteration: 600, loss: 2.5388\n",
      "Iteration: 625, loss: 2.6536\n",
      "Writing to f./landscape.h5\n",
      "./landscape.h5 written\n"
     ]
    }
   ],
   "source": [
    "(X, Y, Z), trajectory = landscape.create_landscape(test_loader, mode=\"pca\", print_every=25)"
   ]
  },
  {
   "cell_type": "code",
   "execution_count": 3,
   "id": "ad933725-cacc-43b6-b8eb-dbec62d57360",
   "metadata": {},
   "outputs": [],
   "source": [
    "plot = Plot.from_files(mesh_path=\"./landscape.h5\")"
   ]
  },
  {
   "cell_type": "code",
   "execution_count": 14,
   "id": "6223ee86-3ce9-4d84-82de-7e153caf4d1c",
   "metadata": {},
   "outputs": [],
   "source": [
    "plot.plot_surface_3D(cmap=\"Oranges\", file_path=\"./loss-landscape.png\")"
   ]
  },
  {
   "cell_type": "code",
   "execution_count": 11,
   "id": "e139a61c-e096-4b23-bbb1-199d836cf773",
   "metadata": {},
   "outputs": [],
   "source": [
    "plot.plot_contour(cmap=\"YlGnBu\", levels=35, plot_trajectory=True, file_path=\"./loss-contour.png\")"
   ]
  },
  {
   "cell_type": "code",
   "execution_count": 12,
   "id": "ce848960-2fbb-4a20-8ed6-a8c2e230c0a4",
   "metadata": {},
   "outputs": [],
   "source": [
    "plot.animate_contour(cmap=\"YlGnBu\", levels=35,  file_path=\"./animated-contour.gif\")"
   ]
  },
  {
   "cell_type": "code",
   "execution_count": null,
   "id": "86cd3196-137e-450d-a36e-bace206d2b50",
   "metadata": {},
   "outputs": [],
   "source": []
  }
 ],
 "metadata": {
  "kernelspec": {
   "display_name": "Python 3 (ipykernel)",
   "language": "python",
   "name": "python3"
  },
  "language_info": {
   "codemirror_mode": {
    "name": "ipython",
    "version": 3
   },
   "file_extension": ".py",
   "mimetype": "text/x-python",
   "name": "python",
   "nbconvert_exporter": "python",
   "pygments_lexer": "ipython3",
   "version": "3.12.4"
  }
 },
 "nbformat": 4,
 "nbformat_minor": 5
}
