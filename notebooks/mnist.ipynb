{
 "cells": [
  {
   "cell_type": "code",
   "execution_count": 1,
   "id": "571b0449-b5b7-4a9c-89cb-e0f8e12a61d2",
   "metadata": {},
   "outputs": [],
   "source": [
    "import torch\n",
    "import torch.nn as nn\n",
    "import numpy as np\n",
    "\n",
    "from datasets import load_dataset \n",
    "from torch.utils.data import DataLoader\n",
    "from src.trainer import Trainer\n",
    "from src.model import Model"
   ]
  },
  {
   "cell_type": "code",
   "execution_count": 2,
   "id": "8b4608e2-139f-4dfc-8936-4f69c7b075f6",
   "metadata": {},
   "outputs": [],
   "source": [
    "dataset = load_dataset(\"ylecun/mnist\", num_proc=2)\n",
    "train = dataset.get(\"train\")\n",
    "test = dataset.get(\"test\")"
   ]
  },
  {
   "cell_type": "code",
   "execution_count": null,
   "id": "bf96ebfe-60b8-426e-83ed-02900cb7b472",
   "metadata": {},
   "outputs": [],
   "source": [
    "def transform_fn(examples):\n",
    "    examples[\"input\"] = np.array(examples[\"image\"]) / 255.0\n",
    "    return examples\n",
    "\n",
    "train_dataset = train.map(transform_fn, batched=True)\n",
    "test_dataset = test.map(transform_fn, batched=True)\n",
    "train_dataset.set_format(\"torch\", columns)"
   ]
  },
  {
   "cell_type": "code",
   "execution_count": null,
   "id": "1831bd8d-e556-4902-897d-e75fc25cee10",
   "metadata": {},
   "outputs": [],
   "source": []
  },
  {
   "cell_type": "code",
   "execution_count": null,
   "id": "e2e8b0a3-9226-4f22-9f62-f27015fa65ed",
   "metadata": {},
   "outputs": [],
   "source": [
    "print(test_dataset[0][\"input\"])"
   ]
  },
  {
   "cell_type": "code",
   "execution_count": null,
   "id": "0870fcda-409a-452b-8e18-ce95c9067d25",
   "metadata": {},
   "outputs": [],
   "source": []
  }
 ],
 "metadata": {
  "kernelspec": {
   "display_name": "Python 3 (ipykernel)",
   "language": "python",
   "name": "python3"
  },
  "language_info": {
   "codemirror_mode": {
    "name": "ipython",
    "version": 3
   },
   "file_extension": ".py",
   "mimetype": "text/x-python",
   "name": "python",
   "nbconvert_exporter": "python",
   "pygments_lexer": "ipython3",
   "version": "3.12.4"
  }
 },
 "nbformat": 4,
 "nbformat_minor": 5
}
